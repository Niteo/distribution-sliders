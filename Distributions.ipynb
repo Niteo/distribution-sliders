{
 "cells": [
  {
   "cell_type": "code",
   "execution_count": 1,
   "metadata": {
    "collapsed": false,
    "deletable": true,
    "editable": true
   },
   "outputs": [],
   "source": [
    "import numpy as np\n",
    "import numpy.random as rnd\n",
    "import pandas as pd\n",
    "import seaborn as sns\n",
    "import matplotlib.pyplot as plt\n",
    "from scipy import stats\n",
    "from ipywidgets import widgets, interact, interactive, fixed, interact_manual\n",
    "\n",
    "from IPython.display import display, clear_output\n",
    "import string\n",
    "import warnings\n",
    "%matplotlib inline\n",
    "warnings.filterwarnings('ignore')"
   ]
  },
  {
   "cell_type": "code",
   "execution_count": 2,
   "metadata": {
    "collapsed": false,
    "deletable": true,
    "editable": true
   },
   "outputs": [],
   "source": [
    "alphabet = list(string.ascii_uppercase)\n",
    "max_categories = len(alphabet)\n",
    "categories = ['A']\n",
    "probabilities = [1.]"
   ]
  },
  {
   "cell_type": "code",
   "execution_count": 3,
   "metadata": {
    "collapsed": false,
    "deletable": true,
    "editable": true
   },
   "outputs": [],
   "source": [
    "# GUI elements\n",
    "categories_slider = widgets.IntSlider(min=1, max=max_categories, description='Categories')\n",
    "categories_slider.layout.width = 'auto'\n",
    "\n",
    "uniform_button = widgets.Button(description='Uniform')\n",
    "normal_button = widgets.Button(description='Normal')\n",
    "draw_button = widgets.Button(description='Draw', icon='fa-bar-chart', button_style='success')\n",
    "sliders = []\n",
    "\n",
    "box = widgets.VBox()"
   ]
  },
  {
   "cell_type": "code",
   "execution_count": 4,
   "metadata": {
    "collapsed": false
   },
   "outputs": [
    {
     "data": {
      "text/plain": [
       "<matplotlib.figure.Figure at 0x7f12b5ab26d0>"
      ]
     },
     "metadata": {},
     "output_type": "display_data"
    }
   ],
   "source": [
    "out = widgets.Output()\n",
    "out.layout.align_items = 'center'\n",
    "fig = plt.figure()"
   ]
  },
  {
   "cell_type": "code",
   "execution_count": 5,
   "metadata": {
    "collapsed": true
   },
   "outputs": [],
   "source": [
    "def plot(x_axis, y_axis):\n",
    "    with sns.axes_style(\"darkgrid\"):\n",
    "        fig.clear()\n",
    "        ax = fig.add_subplot(1, 1, 1)\n",
    "        ax.set_xlabel('Category')\n",
    "        ax.set_ylabel('%')\n",
    "        ax.set_ylim((0,100))\n",
    "        sns.barplot(x=x_axis, y=y_axis, palette='pastel', ax=ax)\n",
    "        fig.canvas.draw_idle()\n",
    "    with out:\n",
    "        clear_output()\n",
    "        display(fig)"
   ]
  },
  {
   "cell_type": "code",
   "execution_count": 6,
   "metadata": {
    "collapsed": false,
    "deletable": true,
    "editable": true
   },
   "outputs": [],
   "source": [
    "def plot_dist(x_axis, y_axis):\n",
    "    plt.clf()\n",
    "    plt.ylabel('%')\n",
    "    plt.xlabel('Category')\n",
    "    plt.ylim((0,100))\n",
    "    sns.barplot(x=x_axis, y=y_axis, palette='pastel')\n",
    "    plt.show()"
   ]
  },
  {
   "cell_type": "code",
   "execution_count": 7,
   "metadata": {
    "collapsed": false,
    "deletable": true,
    "editable": true
   },
   "outputs": [],
   "source": [
    "def _update(c_slider):\n",
    "    global categories\n",
    "    global probabilities\n",
    "\n",
    "    categories = alphabet[0:categories_slider.value]\n",
    "    probabilities = np.repeat(1./len(categories), categories_slider.value)\n",
    "    \n",
    "    plot_dist(pd.Series(categories), pd.Series(probabilities)*100)\n"
   ]
  },
  {
   "cell_type": "code",
   "execution_count": 8,
   "metadata": {
    "collapsed": false,
    "deletable": true,
    "editable": true
   },
   "outputs": [],
   "source": [
    "def init():\n",
    "    global sliders\n",
    "    global box\n",
    "    \n",
    "    sliders = []\n",
    "\n",
    "    for i in range(0, categories_slider.value):\n",
    "        sliders.append(widgets.IntSlider(min=0, max=100, description=categories[i], continuous_update=False, orientation='vertical'))\n",
    "        #sliders[i].observe(update)\n",
    "    slider_box = widgets.HBox(sliders)\n",
    "    dist_box = widgets.HBox([uniform_button, normal_button])\n",
    "    box = widgets.VBox([dist_box,slider_box, draw_button])\n",
    "    box.layout.align_items='center'\n",
    "\n",
    "def update(change):\n",
    "    probabilities = pd.Series([slider.value for slider in sliders])\n",
    "    normalize_by = probabilities.sum()\n",
    "    plot(pd.Series([str(slider.description) for slider in sliders]), (probabilities/normalize_by)*100)"
   ]
  },
  {
   "cell_type": "code",
   "execution_count": 9,
   "metadata": {
    "collapsed": false,
    "deletable": true,
    "editable": true
   },
   "outputs": [
    {
     "data": {
      "application/vnd.jupyter.widget-view+json": {
       "model_id": "50c2510bc0934b98a24fda318fe57e23",
       "version_major": 2,
       "version_minor": 0
      },
      "text/plain": [
       "interactive(children=(IntSlider(value=1, description=u'Categories', layout=Layout(width=u'auto'), max=26, min=…"
      ]
     },
     "metadata": {},
     "output_type": "display_data"
    },
    {
     "data": {
      "text/plain": [
       "<function __main__._update>"
      ]
     },
     "execution_count": 9,
     "metadata": {},
     "output_type": "execute_result"
    }
   ],
   "source": [
    "interact(_update, c_slider=categories_slider)"
   ]
  },
  {
   "cell_type": "code",
   "execution_count": 10,
   "metadata": {
    "collapsed": false
   },
   "outputs": [],
   "source": [
    "init()"
   ]
  },
  {
   "cell_type": "code",
   "execution_count": 11,
   "metadata": {
    "collapsed": false
   },
   "outputs": [],
   "source": [
    "draw_button.on_click(update)"
   ]
  },
  {
   "cell_type": "code",
   "execution_count": 12,
   "metadata": {
    "collapsed": false,
    "deletable": true,
    "editable": true,
    "scrolled": false
   },
   "outputs": [
    {
     "data": {
      "application/vnd.jupyter.widget-view+json": {
       "model_id": "f36e58c5b33f49118d845511f02336ea",
       "version_major": 2,
       "version_minor": 0
      },
      "text/plain": [
       "VBox(children=(HBox(children=(Button(description=u'Uniform', style=ButtonStyle()), Button(description=u'Normal…"
      ]
     },
     "metadata": {},
     "output_type": "display_data"
    },
    {
     "data": {
      "application/vnd.jupyter.widget-view+json": {
       "model_id": "ac530c2f71b14ed8a8c9f4d7d72d1017",
       "version_major": 2,
       "version_minor": 0
      },
      "text/plain": [
       "Output(layout=Layout(align_items=u'center'))"
      ]
     },
     "metadata": {},
     "output_type": "display_data"
    }
   ],
   "source": [
    "display(box)\n",
    "display(out)"
   ]
  }
 ],
 "metadata": {
  "kernelspec": {
   "display_name": "Python 2",
   "language": "python",
   "name": "python2"
  },
  "language_info": {
   "codemirror_mode": {
    "name": "ipython",
    "version": 2
   },
   "file_extension": ".py",
   "mimetype": "text/x-python",
   "name": "python",
   "nbconvert_exporter": "python",
   "pygments_lexer": "ipython2",
   "version": "2.7.13"
  }
 },
 "nbformat": 4,
 "nbformat_minor": 2
}
