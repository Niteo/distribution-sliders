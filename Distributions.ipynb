{
 "cells": [
  {
   "cell_type": "code",
   "execution_count": 1,
   "metadata": {
    "collapsed": false,
    "deletable": true,
    "editable": true
   },
   "outputs": [],
   "source": [
    "import numpy as np\n",
    "import numpy.random as rnd\n",
    "import pandas as pd\n",
    "import seaborn as sns\n",
    "import matplotlib.pyplot as plt\n",
    "from scipy import stats\n",
    "from ipywidgets import widgets, interact, interactive, fixed, interact_manual\n",
    "\n",
    "from IPython.display import display, clear_output\n",
    "import string\n",
    "import warnings\n",
    "%matplotlib inline\n",
    "warnings.filterwarnings('ignore')"
   ]
  },
  {
   "cell_type": "code",
   "execution_count": 2,
   "metadata": {
    "collapsed": false,
    "deletable": true,
    "editable": true
   },
   "outputs": [],
   "source": [
    "alphabet = list(string.ascii_uppercase)\n",
    "max_categories = len(alphabet)\n",
    "categories = ['A']\n",
    "probabilities = [1.]\n",
    "dist_type = 'Uniform'"
   ]
  },
  {
   "cell_type": "code",
   "execution_count": 3,
   "metadata": {
    "collapsed": false,
    "deletable": true,
    "editable": true
   },
   "outputs": [],
   "source": [
    "categories_slider = widgets.IntSlider(min=1, max=max_categories, description='Categories')\n",
    "categories_slider.layout.width = 'auto'\n",
    "\n",
    "distribution_slider = widgets.IntSlider(min=1, max=100, description='Less - More')\n",
    "distribution_slider.layout.width = 'auto'\n",
    "\n",
    "distribution_toggle = widgets.ToggleButtons(\n",
    "    options=['Uniform', 'Normal', 'Skewed'],\n",
    "    description='Distribution:',\n",
    "    disabled=False,\n",
    "    button_style='', # 'success', 'info', 'warning', 'danger' or ''\n",
    ")"
   ]
  },
  {
   "cell_type": "code",
   "execution_count": 4,
   "metadata": {
    "collapsed": false,
    "deletable": true,
    "editable": true
   },
   "outputs": [],
   "source": [
    "def plot_dist(x_axis, y_axis):\n",
    "    plt.clf()\n",
    "    plt.ylabel('%')\n",
    "    plt.xlabel('Category')\n",
    "    plt.ylim((0,1.))\n",
    "    sns.barplot(x=x_axis, y=y_axis, palette='pastel')\n",
    "    plt.show()"
   ]
  },
  {
   "cell_type": "code",
   "execution_count": 5,
   "metadata": {
    "collapsed": true,
    "deletable": true,
    "editable": true
   },
   "outputs": [],
   "source": [
    "def calcProbabilities(cats):\n",
    "    result = []\n",
    "    \n",
    "    if(len(cats)<=1):\n",
    "        result.append(1.)\n",
    "    else:\n",
    "\n",
    "        if(dist_type == 'Uniform'):\n",
    "            result.extend(np.repeat(1./len(cats), len(cats)).tolist())\n",
    "        elif(dist_type == 'Normal'):\n",
    "            # FIXME: Better algorithm\n",
    "            result.append(0.5)\n",
    "            result.extend(np.repeat(0.5/(len(cats)-1), len(cats)-1).tolist())\n",
    "        elif(dist_type == 'Skewed'):\n",
    "            # FIXME: Better algorithm\n",
    "            result.append(0.5)\n",
    "            result.extend(np.repeat(0.5/(len(cats)-1), len(cats)-1).tolist())\n",
    "\n",
    "    return result"
   ]
  },
  {
   "cell_type": "code",
   "execution_count": 6,
   "metadata": {
    "collapsed": false,
    "deletable": true,
    "editable": true
   },
   "outputs": [],
   "source": [
    "def update(toggle, d_slider, c_slider):\n",
    "    global categories\n",
    "    global probabilities\n",
    "    global dist_type\n",
    "    \n",
    "    dist_type = toggle\n",
    "    categories = alphabet[0:categories_slider.value]\n",
    "    probabilities = calcProbabilities(categories)\n",
    "    \n",
    "    plot_dist(pd.Series(categories), pd.Series(probabilities))\n"
   ]
  },
  {
   "cell_type": "code",
   "execution_count": 7,
   "metadata": {
    "collapsed": false,
    "deletable": true,
    "editable": true
   },
   "outputs": [
    {
     "data": {
      "application/vnd.jupyter.widget-view+json": {
       "model_id": "cdb23edcc2b745e09275e8fa3d27b6a8",
       "version_major": 2,
       "version_minor": 0
      },
      "text/plain": [
       "interactive(children=(ToggleButtons(description=u'Distribution:', options=('Uniform', 'Normal', 'Skewed'), val…"
      ]
     },
     "metadata": {},
     "output_type": "display_data"
    },
    {
     "data": {
      "text/plain": [
       "<function __main__.update>"
      ]
     },
     "execution_count": 7,
     "metadata": {},
     "output_type": "execute_result"
    }
   ],
   "source": [
    "interact(update, toggle=distribution_toggle, d_slider=distribution_slider, c_slider=categories_slider)"
   ]
  },
  {
   "cell_type": "code",
   "execution_count": 67,
   "metadata": {
    "collapsed": false
   },
   "outputs": [],
   "source": [
    "sliders = []\n",
    "\n",
    "uniform_button = widgets.Button(description='Uniform')\n",
    "normal_button = widgets.Button(description='Normal')\n",
    "draw_button = widgets.Button(description='Draw', icon='fa-bar-chart', button_style='success')\n",
    "\n",
    "for i in range(0, categories_slider.value):\n",
    "    sliders.append(widgets.IntSlider(min=0, max=100, description=categories[i], orientation='vertical'))\n",
    "    \n",
    "slider_box = widgets.HBox(sliders)\n",
    "dist_box = widgets.HBox([uniform_button, normal_button])\n",
    "box = widgets.VBox([dist_box,slider_box, draw_button])\n",
    "box.layout.align_items='center'"
   ]
  },
  {
   "cell_type": "code",
   "execution_count": 68,
   "metadata": {
    "collapsed": false
   },
   "outputs": [
    {
     "data": {
      "application/vnd.jupyter.widget-view+json": {
       "model_id": "384a918b132f4ba8ac0cf4b39536d846",
       "version_major": 2,
       "version_minor": 0
      },
      "text/plain": [
       "VBox(children=(HBox(children=(Button(description=u'Uniform', style=ButtonStyle()), Button(description=u'Normal…"
      ]
     },
     "metadata": {},
     "output_type": "display_data"
    }
   ],
   "source": [
    "display(box)"
   ]
  }
 ],
 "metadata": {
  "kernelspec": {
   "display_name": "Python 2",
   "language": "python",
   "name": "python2"
  },
  "language_info": {
   "codemirror_mode": {
    "name": "ipython",
    "version": 2
   },
   "file_extension": ".py",
   "mimetype": "text/x-python",
   "name": "python",
   "nbconvert_exporter": "python",
   "pygments_lexer": "ipython2",
   "version": "2.7.13"
  }
 },
 "nbformat": 4,
 "nbformat_minor": 2
}
