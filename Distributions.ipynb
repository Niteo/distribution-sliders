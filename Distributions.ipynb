{
 "cells": [
  {
   "cell_type": "code",
   "execution_count": 1,
   "metadata": {
    "collapsed": false,
    "deletable": true,
    "editable": true
   },
   "outputs": [],
   "source": [
    "import numpy as np\n",
    "import numpy.random as rnd\n",
    "import pandas as pd\n",
    "import seaborn as sns\n",
    "import matplotlib.pyplot as plt\n",
    "from scipy import stats\n",
    "from ipywidgets import widgets, interact, interactive, fixed, interact_manual\n",
    "\n",
    "from IPython.display import display, clear_output\n",
    "import string\n",
    "import warnings\n",
    "%matplotlib inline\n",
    "warnings.filterwarnings('ignore')"
   ]
  },
  {
   "cell_type": "code",
   "execution_count": 2,
   "metadata": {
    "collapsed": false,
    "deletable": true,
    "editable": true
   },
   "outputs": [],
   "source": [
    "alphabet = list(string.ascii_uppercase)\n",
    "max_categories = len(alphabet)"
   ]
  },
  {
   "cell_type": "code",
   "execution_count": 3,
   "metadata": {
    "collapsed": false,
    "deletable": true,
    "editable": true
   },
   "outputs": [],
   "source": [
    "# GUI elements\n",
    "categories_slider = widgets.IntSlider(min=1, max=max_categories, description='Categories', continuous_update=False, value=4)\n",
    "categories_slider.layout.width = 'auto'\n",
    "\n",
    "uniform_button = widgets.Button(description='Uniform', tooltip='Set all sliders to a uniform distribution')\n",
    "normal_button = widgets.ToggleButton(\n",
    "    value=False,\n",
    "    description='Normal',\n",
    "    disabled=False,\n",
    "    button_style='danger', # 'success', 'info', 'warning', 'danger' or ''\n",
    "    tooltip='Approximate a normal distribution',\n",
    "    icon='times'\n",
    ")\n",
    "draw_button = widgets.Button(description='Draw', icon='fa-bar-chart', button_style='success')\n",
    "sliders = []\n",
    "texts = []\n",
    "\n",
    "box = widgets.VBox()"
   ]
  },
  {
   "cell_type": "code",
   "execution_count": 4,
   "metadata": {
    "collapsed": false
   },
   "outputs": [],
   "source": [
    "std_slider = widgets.FloatSlider(min=0., max=5., step=0.1, value=0., continuous_update=False, description='Standard deviation')"
   ]
  },
  {
   "cell_type": "code",
   "execution_count": 5,
   "metadata": {
    "collapsed": false,
    "deletable": true,
    "editable": true
   },
   "outputs": [
    {
     "data": {
      "text/plain": [
       "<matplotlib.figure.Figure at 0x7f1c033586d0>"
      ]
     },
     "metadata": {},
     "output_type": "display_data"
    }
   ],
   "source": [
    "out = widgets.Output()\n",
    "out.layout.align_items = 'center'\n",
    "fig = plt.figure()"
   ]
  },
  {
   "cell_type": "code",
   "execution_count": 6,
   "metadata": {
    "collapsed": true,
    "deletable": true,
    "editable": true
   },
   "outputs": [],
   "source": [
    "def plot(x_axis, y_axis):\n",
    "    with sns.axes_style(\"darkgrid\"):\n",
    "        fig.clear()\n",
    "        ax = fig.add_subplot(1, 1, 1)\n",
    "        ax.set_xlabel('Category')\n",
    "        ax.set_ylabel('%')\n",
    "        ax.set_ylim((0,100))\n",
    "        sns.barplot(x=x_axis, y=y_axis, ax=ax, palette='pastel')\n",
    "        fig.canvas.draw_idle()\n",
    "    with out:\n",
    "        clear_output()\n",
    "        display(fig)"
   ]
  },
  {
   "cell_type": "code",
   "execution_count": 7,
   "metadata": {
    "collapsed": false,
    "deletable": true,
    "editable": true
   },
   "outputs": [],
   "source": [
    "def cat_update(c_slider):\n",
    "    categories = alphabet[0:categories_slider.value]\n",
    "    probabilities = np.repeat(1./len(categories), categories_slider.value)\n",
    "    \n",
    "    plt.clf()\n",
    "    plt.xlabel('Category')\n",
    "    sns.barplot(x=pd.Series(categories), y=pd.Series(np.repeat(1, len(categories))), palette='Blues_d')\n",
    "    plt.show()"
   ]
  },
  {
   "cell_type": "code",
   "execution_count": 8,
   "metadata": {
    "collapsed": false,
    "deletable": true,
    "editable": true
   },
   "outputs": [],
   "source": [
    "def init():\n",
    "    global sliders\n",
    "    global box\n",
    "    global texts\n",
    "    global cats_per_x\n",
    "    \n",
    "    diff = categories_slider.value - len(sliders)\n",
    "\n",
    "    if  diff > 0:\n",
    "        for i in range(len(sliders), len(sliders)+diff):\n",
    "            desc = alphabet[i]\n",
    "            sliders.append(widgets.IntSlider(min=0, max=100, value=50, description=desc, continuous_update=False, orientation='vertical'))\n",
    "            \n",
    "            texts.append(widgets.IntText(\n",
    "            value=1,\n",
    "            description='1-'+str(categories_slider.value),\n",
    "            disabled=False,\n",
    "            max=len(sliders),\n",
    "        ))\n",
    "    elif diff < 0:\n",
    "        sliders = sliders[0:categories_slider.value]\n",
    "        texts = texts[0:categories_slider.value]\n",
    "        \n",
    "    cats_per_x = widgets.IntSlider(min=1, max=len(sliders), step=1)\n",
    "\n",
    "    slider_box = widgets.HBox(sliders)\n",
    "    dist_box = widgets.HBox([uniform_button, normal_button])\n",
    "    box = widgets.VBox([dist_box, slider_box, draw_button, std_slider])\n",
    "    \n",
    "    \n",
    "    pair_boxes = []\n",
    "    #texts = []\n",
    "    for i in range(1, len(sliders)+1):\n",
    "        texts[i-1].layout.width='150px'\n",
    "        vbox = widgets.VBox([sliders[i-1], texts[i-1]])\n",
    "        vbox.layout.align_items='flex-end'\n",
    "        pair_boxes.append(vbox)\n",
    "\n",
    "    box = widgets.VBox([dist_box, widgets.HBox(pair_boxes), draw_button, std_slider])\n",
    "    box.layout.align_items='center'\n",
    "    \n",
    "    normal_action(None)\n",
    "\n",
    "def draw(change):\n",
    "    init()\n",
    "    # Sort according to value\n",
    "    s = list(sliders)\n",
    "    \n",
    "    # Weights set, use that order, otherwise alphabetical\n",
    "    if [t.value in range(1,len(sliders)) for t in texts]:\n",
    "        #s=[s[t.value-1] for t in texts]\n",
    "        zippy = zip([slider for slider in sliders], [text.value for text in texts])\n",
    "        zippy.sort(key= lambda (slider,weight): weight)\n",
    "        s=[slider for (slider,weight) in zippy]\n",
    "    else:    \n",
    "        s.sort(key=lambda x: x.description, reverse=False)\n",
    "        \n",
    "    s.sort(key=lambda x: x.value, reverse=True)\n",
    "    \n",
    "    probabilities = pd.Series([slider.value for slider in s])\n",
    "    normalize_by = probabilities.sum()\n",
    "    \n",
    "    clear_output()\n",
    "    display(box, out)\n",
    "    \n",
    "    plot(pd.Series([str(slider.description) for slider in s]), (probabilities/normalize_by)*100)\n",
    "    \n",
    "def uniform_action(change):\n",
    "    \n",
    "    for slider in sliders:\n",
    "        slider.value=50\n",
    "        "
   ]
  },
  {
   "cell_type": "code",
   "execution_count": 9,
   "metadata": {
    "collapsed": false,
    "deletable": true,
    "editable": true
   },
   "outputs": [],
   "source": [
    "def normal_action(change):\n",
    "\n",
    "    if(normal_button.value):\n",
    "        for text in texts:\n",
    "            normal_button.button_style = 'success'\n",
    "            normal_button.icon = 'check'\n",
    "            text.disabled = False\n",
    "            text.layout.visibility = 'visible'\n",
    "    \n",
    "    else:\n",
    "        for text in texts:\n",
    "            normal_button.button_style = 'danger'\n",
    "            normal_button.icon = 'times'\n",
    "            text.disabled = True\n",
    "            text.layout.visibility = 'hidden'\n",
    "        "
   ]
  },
  {
   "cell_type": "code",
   "execution_count": 10,
   "metadata": {
    "collapsed": false,
    "deletable": true,
    "editable": true
   },
   "outputs": [
    {
     "data": {
      "application/vnd.jupyter.widget-view+json": {
       "model_id": "158589400e3b438985196d7b35844ab6",
       "version_major": 2,
       "version_minor": 0
      },
      "text/plain": [
       "interactive(children=(IntSlider(value=4, continuous_update=False, description=u'Categories', layout=Layout(wid…"
      ]
     },
     "metadata": {},
     "output_type": "display_data"
    }
   ],
   "source": [
    "interact(cat_update, c_slider=categories_slider);"
   ]
  },
  {
   "cell_type": "code",
   "execution_count": 11,
   "metadata": {
    "collapsed": false
   },
   "outputs": [],
   "source": [
    "def normal_dist(change):\n",
    "    \n",
    "    if change == 'value':\n",
    "        \n",
    "        if std_slider.value == 0.:\n",
    "            sliders[0].value = 100\n",
    "            for slider in sliders[1:]:\n",
    "                slider.value = 0\n",
    "        else:\n",
    "            spacing = list(np.arange(start=0., stop=len(sliders), step=1.))\n",
    "            values = stats.norm.cdf(spacing,loc=0, scale=std_slider.value)\n",
    "            skew_by_one = np.concatenate([[0.], values[0:len(values)-1]])\n",
    "            diff = values-skew_by_one\n",
    "\n",
    "            for slider in sliders:\n",
    "                \n",
    "                index = sliders.index(slider)\n",
    "                # If all IntTexts are within the correct range, use that order\n",
    "                if [t.value in range(1,len(sliders)) for t in texts]:\n",
    "                    index = texts[sliders.index(slider)].value-1\n",
    "                \n",
    "                slider.value = int(np.round(diff[index]*100, 0))"
   ]
  },
  {
   "cell_type": "code",
   "execution_count": 12,
   "metadata": {
    "collapsed": false,
    "deletable": true,
    "editable": true
   },
   "outputs": [
    {
     "data": {
      "application/vnd.jupyter.widget-view+json": {
       "model_id": "ff932f245dc34f9ba433b8ed37083e1f",
       "version_major": 2,
       "version_minor": 0
      },
      "text/plain": [
       "VBox(children=(HBox(children=(Button(description=u'Uniform', style=ButtonStyle(), tooltip=u'Set all sliders to…"
      ]
     },
     "metadata": {},
     "output_type": "display_data"
    },
    {
     "data": {
      "application/vnd.jupyter.widget-view+json": {
       "model_id": "d03848714ac54cf7a443866b51dd72f7",
       "version_major": 2,
       "version_minor": 0
      },
      "text/plain": [
       "Output(layout=Layout(align_items=u'center'))"
      ]
     },
     "metadata": {},
     "output_type": "display_data"
    }
   ],
   "source": [
    "init()\n",
    "\n",
    "draw_button.on_click(draw)\n",
    "uniform_button.on_click(uniform_action)\n",
    "normal_button.on_trait_change(normal_action)\n",
    "\n",
    "std_slider.on_trait_change(normal_dist)\n",
    "\n",
    "display(box, out)"
   ]
  }
 ],
 "metadata": {
  "kernelspec": {
   "display_name": "Python 2",
   "language": "python",
   "name": "python2"
  },
  "language_info": {
   "codemirror_mode": {
    "name": "ipython",
    "version": 2
   },
   "file_extension": ".py",
   "mimetype": "text/x-python",
   "name": "python",
   "nbconvert_exporter": "python",
   "pygments_lexer": "ipython2",
   "version": "2.7.13"
  }
 },
 "nbformat": 4,
 "nbformat_minor": 2
}
