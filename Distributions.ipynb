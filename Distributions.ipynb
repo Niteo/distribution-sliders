{
 "cells": [
  {
   "cell_type": "code",
   "execution_count": 1,
   "metadata": {
    "collapsed": false,
    "deletable": true,
    "editable": true
   },
   "outputs": [],
   "source": [
    "import numpy as np\n",
    "import numpy.random as rnd\n",
    "import pandas as pd\n",
    "import seaborn as sns\n",
    "import matplotlib.pyplot as plt\n",
    "from scipy import stats\n",
    "from ipywidgets import widgets, interact, interactive, fixed, interact_manual\n",
    "\n",
    "from IPython.display import display, clear_output\n",
    "import string\n",
    "import warnings\n",
    "%matplotlib inline\n",
    "warnings.filterwarnings('ignore')"
   ]
  },
  {
   "cell_type": "code",
   "execution_count": 2,
   "metadata": {
    "collapsed": false,
    "deletable": true,
    "editable": true
   },
   "outputs": [],
   "source": [
    "alphabet = list(string.ascii_uppercase)\n",
    "max_categories = len(alphabet)"
   ]
  },
  {
   "cell_type": "code",
   "execution_count": 3,
   "metadata": {
    "collapsed": false,
    "deletable": true,
    "editable": true
   },
   "outputs": [],
   "source": [
    "# GUI elements\n",
    "categories_slider = widgets.IntSlider(min=1, max=max_categories, description='Categories', continuous_update=False)\n",
    "categories_slider.layout.width = 'auto'\n",
    "\n",
    "uniform_button = widgets.Button(description='Uniform', tooltip='Set all sliders to a uniform distribution')\n",
    "normal_button = widgets.ToggleButton(\n",
    "    value=False,\n",
    "    description='Normal',\n",
    "    disabled=False,\n",
    "    button_style='danger', # 'success', 'info', 'warning', 'danger' or ''\n",
    "    tooltip='Approximate a normal distribution',\n",
    "    icon='times'\n",
    ")\n",
    "draw_button = widgets.Button(description='Draw', icon='fa-bar-chart', button_style='success')\n",
    "sliders = []\n",
    "texts = []\n",
    "\n",
    "box = widgets.VBox()"
   ]
  },
  {
   "cell_type": "code",
   "execution_count": 4,
   "metadata": {
    "collapsed": false,
    "deletable": true,
    "editable": true
   },
   "outputs": [
    {
     "data": {
      "text/plain": [
       "<matplotlib.figure.Figure at 0x7f04d1ef26d0>"
      ]
     },
     "metadata": {},
     "output_type": "display_data"
    }
   ],
   "source": [
    "out = widgets.Output()\n",
    "out.layout.align_items = 'center'\n",
    "fig = plt.figure()"
   ]
  },
  {
   "cell_type": "code",
   "execution_count": 5,
   "metadata": {
    "collapsed": true,
    "deletable": true,
    "editable": true
   },
   "outputs": [],
   "source": [
    "def plot(x_axis, y_axis):\n",
    "    with sns.axes_style(\"darkgrid\"):\n",
    "        fig.clear()\n",
    "        ax = fig.add_subplot(1, 1, 1)\n",
    "        ax.set_xlabel('Category')\n",
    "        ax.set_ylabel('%')\n",
    "        ax.set_ylim((0,100))\n",
    "        sns.barplot(x=x_axis, y=y_axis, ax=ax, palette='pastel')\n",
    "        fig.canvas.draw_idle()\n",
    "    with out:\n",
    "        clear_output()\n",
    "        display(fig)"
   ]
  },
  {
   "cell_type": "code",
   "execution_count": 6,
   "metadata": {
    "collapsed": false,
    "deletable": true,
    "editable": true
   },
   "outputs": [],
   "source": [
    "def cat_update(c_slider):\n",
    "    categories = alphabet[0:categories_slider.value]\n",
    "    probabilities = np.repeat(1./len(categories), categories_slider.value)\n",
    "    \n",
    "    plt.clf()\n",
    "    plt.xlabel('Category')\n",
    "    sns.barplot(x=pd.Series(categories), y=pd.Series(np.repeat(1, len(categories))), palette='Blues_d')\n",
    "    plt.show()"
   ]
  },
  {
   "cell_type": "code",
   "execution_count": 7,
   "metadata": {
    "collapsed": false,
    "deletable": true,
    "editable": true
   },
   "outputs": [],
   "source": [
    "def init():\n",
    "    global sliders\n",
    "    global box\n",
    "    global texts\n",
    "    \n",
    "    diff = categories_slider.value - len(sliders)\n",
    "\n",
    "    if  diff > 0:\n",
    "        for i in range(len(sliders), len(sliders)+diff):\n",
    "            desc = alphabet[i]\n",
    "            sliders.append(widgets.IntSlider(min=0, max=100, description=desc, continuous_update=False, orientation='vertical'))\n",
    "    elif diff < 0:\n",
    "        sliders = sliders[0:categories_slider.value]\n",
    "\n",
    "    slider_box = widgets.HBox(sliders)\n",
    "    dist_box = widgets.HBox([uniform_button, normal_button])\n",
    "    box = widgets.VBox([dist_box,slider_box, draw_button])\n",
    "    \n",
    "    \n",
    "    pair_boxes = []\n",
    "    texts = []\n",
    "    for i in range(1, len(sliders)+1):\n",
    "        texts.append(widgets.Text(\n",
    "        placeholder='1-'+str(len(sliders)),\n",
    "        description='Order:',\n",
    "        disabled=False\n",
    "    ))\n",
    "        texts[i-1].layout.width='150px'\n",
    "        vbox = widgets.VBox([sliders[i-1], texts[i-1]])\n",
    "        vbox.layout.align_items='flex-end'\n",
    "        pair_boxes.append(vbox)\n",
    "\n",
    "    box = widgets.VBox([dist_box, widgets.HBox(pair_boxes), draw_button])\n",
    "    box.layout.align_items='center'\n",
    "    \n",
    "    normal_action(None)\n",
    "\n",
    "def draw(change):\n",
    "    init()\n",
    "    # Sort according to value\n",
    "    sliders.sort(key=lambda x: x.description, reverse=False)\n",
    "    sliders.sort(key=lambda x: x.value, reverse=True)\n",
    "    \n",
    "    probabilities = pd.Series([slider.value for slider in sliders])\n",
    "    normalize_by = probabilities.sum()\n",
    "    \n",
    "    clear_output()\n",
    "    display(box, out)\n",
    "    \n",
    "    plot(pd.Series([str(slider.description) for slider in sliders]), (probabilities/normalize_by)*100)\n",
    "    \n",
    "def uniform_action(change):\n",
    "    \n",
    "    for slider in sliders:\n",
    "        slider.value=50\n",
    "        "
   ]
  },
  {
   "cell_type": "code",
   "execution_count": 8,
   "metadata": {
    "collapsed": false
   },
   "outputs": [],
   "source": [
    "def normal_action(change):\n",
    "\n",
    "    if(normal_button.value):\n",
    "        for text in texts:\n",
    "            normal_button.button_style = 'success'\n",
    "            normal_button.icon = 'check'\n",
    "            text.disabled = False\n",
    "            text.layout.visibility = 'visible'\n",
    "    \n",
    "    else:\n",
    "        for text in texts:\n",
    "            normal_button.button_style = 'danger'\n",
    "            normal_button.icon = 'times'\n",
    "            text.disabled = True\n",
    "            text.layout.visibility = 'hidden'\n",
    "        "
   ]
  },
  {
   "cell_type": "code",
   "execution_count": 9,
   "metadata": {
    "collapsed": false,
    "deletable": true,
    "editable": true
   },
   "outputs": [
    {
     "data": {
      "application/vnd.jupyter.widget-view+json": {
       "model_id": "f9be3ed40408493fae25af1e5d654088",
       "version_major": 2,
       "version_minor": 0
      },
      "text/plain": [
       "interactive(children=(IntSlider(value=1, continuous_update=False, description=u'Categories', layout=Layout(wid…"
      ]
     },
     "metadata": {},
     "output_type": "display_data"
    }
   ],
   "source": [
    "interact(cat_update, c_slider=categories_slider);"
   ]
  },
  {
   "cell_type": "code",
   "execution_count": 10,
   "metadata": {
    "collapsed": false,
    "deletable": true,
    "editable": true
   },
   "outputs": [
    {
     "data": {
      "application/vnd.jupyter.widget-view+json": {
       "model_id": "c57105db98de475c862df4b242f81aba",
       "version_major": 2,
       "version_minor": 0
      },
      "text/plain": [
       "VBox(children=(HBox(children=(Button(description=u'Uniform', style=ButtonStyle(), tooltip=u'Set all sliders to…"
      ]
     },
     "metadata": {},
     "output_type": "display_data"
    },
    {
     "data": {
      "application/vnd.jupyter.widget-view+json": {
       "model_id": "9b81c51d4c4148a1890a70601cfbae08",
       "version_major": 2,
       "version_minor": 0
      },
      "text/plain": [
       "Output(layout=Layout(align_items=u'center'))"
      ]
     },
     "metadata": {},
     "output_type": "display_data"
    }
   ],
   "source": [
    "init()\n",
    "\n",
    "draw_button.on_click(draw)\n",
    "uniform_button.on_click(uniform_action)\n",
    "normal_button.on_trait_change(normal_action)\n",
    "display(box, out)"
   ]
  }
 ],
 "metadata": {
  "kernelspec": {
   "display_name": "Python 2",
   "language": "python",
   "name": "python2"
  },
  "language_info": {
   "codemirror_mode": {
    "name": "ipython",
    "version": 2
   },
   "file_extension": ".py",
   "mimetype": "text/x-python",
   "name": "python",
   "nbconvert_exporter": "python",
   "pygments_lexer": "ipython2",
   "version": "2.7.13"
  }
 },
 "nbformat": 4,
 "nbformat_minor": 2
}
