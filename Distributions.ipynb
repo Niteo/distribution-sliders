{
 "cells": [
  {
   "cell_type": "code",
   "execution_count": 1,
   "metadata": {
    "collapsed": false,
    "deletable": true,
    "editable": true
   },
   "outputs": [],
   "source": [
    "import numpy as np\n",
    "import numpy.random as rnd\n",
    "import pandas as pd\n",
    "import seaborn as sns\n",
    "import matplotlib.pyplot as plt\n",
    "from scipy import stats\n",
    "from ipywidgets import widgets, interact, interactive, fixed, interact_manual\n",
    "\n",
    "from IPython.display import display, clear_output\n",
    "import string\n",
    "import warnings\n",
    "%matplotlib inline\n",
    "warnings.filterwarnings('ignore')"
   ]
  },
  {
   "cell_type": "code",
   "execution_count": 2,
   "metadata": {
    "collapsed": false,
    "deletable": true,
    "editable": true
   },
   "outputs": [],
   "source": [
    "alphabet = list(string.ascii_uppercase)\n",
    "max_categories = len(alphabet)"
   ]
  },
  {
   "cell_type": "code",
   "execution_count": 3,
   "metadata": {
    "collapsed": false,
    "deletable": true,
    "editable": true
   },
   "outputs": [],
   "source": [
    "# GUI elements\n",
    "categories_slider = widgets.IntSlider(min=1, max=max_categories, description='Categories', continuous_update=False, value=4)\n",
    "categories_slider.layout.width = 'auto'\n",
    "\n",
    "uniform_button = widgets.Button(description='Uniform', tooltip='Set all sliders to a uniform distribution')\n",
    "normal_button = widgets.ToggleButton(\n",
    "    value=False,\n",
    "    description='Normal',\n",
    "    disabled=False,\n",
    "    button_style='danger', # 'success', 'info', 'warning', 'danger' or ''\n",
    "    tooltip='Approximate a normal distribution',\n",
    "    icon='times'\n",
    ")\n",
    "draw_button = widgets.Button(description='Draw', icon='fa-bar-chart', button_style='success')\n",
    "shape_slider = widgets.FloatSlider(min=0., max=5., step=0.1, value=0., continuous_update=False, description='Shape', disabled=True) \n",
    "shape_slider.layout.visibility='hidden'\n",
    "\n",
    "dists = ['Custom', 'Geom', 'Logser', 'Planck', 'Uniform', 'Zipf']\n",
    "distMap = {'Geom' : lambda shape: stats.geom.pmf(list(np.arange(start=1., stop=len(sliders)+1, step=1.)), shape), #Shape: 'p'\n",
    "           'Logser' : lambda shape: stats.logser.pmf(list(np.arange(start=1., stop=len(sliders)+1, step=1.)), shape), #Shape: 'p'\n",
    "           'Planck' : lambda shape: stats.planck.pmf(list(np.arange(start=0., stop=len(sliders), step=1.)), shape), #Shape: 'lambda'\n",
    "           'Uniform' : lambda _: stats.randint.pmf(list(np.arange(start=0., stop=len(sliders), step=1.)), 0, categories_slider.value),\n",
    "          'Zipf' : lambda shape: stats.zipf.pmf(list(np.arange(start=1., stop=len(sliders)+1, step=1.)), shape)} #Shape: 'a'\n",
    "dropdown = widgets.Dropdown(options=dists, value='Custom', description='Distribution:', disabled=False)\n",
    "\n",
    "sliders = []\n",
    "texts = []\n",
    "\n",
    "box = widgets.VBox()"
   ]
  },
  {
   "cell_type": "code",
   "execution_count": 4,
   "metadata": {
    "collapsed": false,
    "deletable": true,
    "editable": true
   },
   "outputs": [
    {
     "data": {
      "text/plain": [
       "<matplotlib.figure.Figure at 0x7ff5730936d0>"
      ]
     },
     "metadata": {},
     "output_type": "display_data"
    }
   ],
   "source": [
    "out = widgets.Output()\n",
    "out.layout.align_items = 'center'\n",
    "fig = plt.figure()"
   ]
  },
  {
   "cell_type": "code",
   "execution_count": 5,
   "metadata": {
    "collapsed": true,
    "deletable": true,
    "editable": true
   },
   "outputs": [],
   "source": [
    "def plot(x_axis, y_axis):\n",
    "    with sns.axes_style(\"darkgrid\"):\n",
    "        fig.clear()\n",
    "        ax = fig.add_subplot(1, 1, 1)\n",
    "        ax.set_xlabel('Category')\n",
    "        ax.set_ylabel('%')\n",
    "        ax.set_ylim((0,100))\n",
    "        sns.barplot(x=x_axis, y=y_axis, ax=ax, palette='pastel')\n",
    "        fig.canvas.draw_idle()\n",
    "    with out:\n",
    "        clear_output()\n",
    "        display(fig)"
   ]
  },
  {
   "cell_type": "code",
   "execution_count": 6,
   "metadata": {
    "collapsed": false,
    "deletable": true,
    "editable": true
   },
   "outputs": [],
   "source": [
    "def cat_update(c_slider):\n",
    "    categories = alphabet[0:categories_slider.value]\n",
    "    probabilities = np.repeat(1./len(categories), categories_slider.value)\n",
    "    \n",
    "    plt.clf()\n",
    "    plt.xlabel('Category')\n",
    "    sns.barplot(x=pd.Series(categories), y=pd.Series(np.repeat(1, len(categories))), palette='Blues_d')\n",
    "    plt.show()"
   ]
  },
  {
   "cell_type": "code",
   "execution_count": 7,
   "metadata": {
    "collapsed": false,
    "deletable": true,
    "editable": true
   },
   "outputs": [],
   "source": [
    "def toggle_labels(change):\n",
    "\n",
    "    if(normal_button.value):\n",
    "        for text in texts:\n",
    "            normal_button.button_style = 'success'\n",
    "            normal_button.icon = 'check'\n",
    "            text.disabled = False\n",
    "            text.layout.visibility = 'visible'\n",
    "    \n",
    "    else:\n",
    "        for text in texts:\n",
    "            normal_button.button_style = 'danger'\n",
    "            normal_button.icon = 'times'\n",
    "            text.disabled = True\n",
    "            text.layout.visibility = 'hidden'\n",
    "        "
   ]
  },
  {
   "cell_type": "code",
   "execution_count": 8,
   "metadata": {
    "collapsed": false,
    "deletable": true,
    "editable": true
   },
   "outputs": [],
   "source": [
    "def update_dist(change):\n",
    "\n",
    "    values = distMap[dropdown.value](shape_slider.value)\n",
    "    \n",
    "    values_series=pd.Series(values)\n",
    "    if(len(values_series.dropna())==0):\n",
    "        values = np.repeat(0, len(values))\n",
    "\n",
    "    for slider in sliders:\n",
    "\n",
    "        index = sliders.index(slider)\n",
    "\n",
    "        # If all IntTexts are within the correct range, use that order\n",
    "        if [t.value in range(1,len(sliders)) for t in texts]:\n",
    "            index = texts[sliders.index(slider)].value-1\n",
    "\n",
    "        slider.value = int(np.round(values[index]*100, 0))"
   ]
  },
  {
   "cell_type": "code",
   "execution_count": 9,
   "metadata": {
    "collapsed": false,
    "deletable": true,
    "editable": true
   },
   "outputs": [],
   "source": [
    "def update_gui():\n",
    "    global sliders\n",
    "    global box\n",
    "    global texts\n",
    "    \n",
    "    # If number of categories have been updated, either remove or add more sliders\n",
    "    diff = categories_slider.value - len(sliders)\n",
    "\n",
    "    if(diff > 0):\n",
    "        for i in range(len(sliders), len(sliders)+diff):\n",
    "            desc = alphabet[i]\n",
    "            sliders.append(widgets.IntSlider(min=0, max=100, value=50, description=desc, continuous_update=False, orientation='vertical'))\n",
    "            \n",
    "            texts.append(widgets.IntText(\n",
    "            value=i+1,\n",
    "            description='1-'+str(categories_slider.value),\n",
    "            disabled=False,\n",
    "            max=len(sliders),\n",
    "        ))\n",
    "    elif(diff < 0):\n",
    "        sliders = sliders[0:categories_slider.value]\n",
    "        texts = texts[0:categories_slider.value]\n",
    "\n",
    "    # Add a label to each slider element\n",
    "    pair_boxes = []\n",
    "    \n",
    "    for i in range(1, len(sliders)+1):\n",
    "        texts[i-1].layout.width='150px'\n",
    "        vbox = widgets.VBox([sliders[i-1], texts[i-1]])\n",
    "        vbox.layout.align_items='flex-end'\n",
    "        pair_boxes.append(vbox)\n",
    "\n",
    "     # Put the layout together\n",
    "    slider_box = widgets.HBox(sliders)\n",
    "    dist_box = widgets.HBox([dropdown])\n",
    "    box = widgets.VBox([dist_box, widgets.HBox(pair_boxes), shape_slider, draw_button])\n",
    "    box.layout.align_items='center'\n",
    "    "
   ]
  },
  {
   "cell_type": "code",
   "execution_count": 10,
   "metadata": {
    "collapsed": true
   },
   "outputs": [],
   "source": [
    "def uniform_action(change):\n",
    "    \n",
    "    value = distMap['Uniform'](range(0, categories_slider.value), None)\n",
    "    \n",
    "    for slider in sliders:\n",
    "        slider.value = value[sliders.index(slider)]"
   ]
  },
  {
   "cell_type": "code",
   "execution_count": 11,
   "metadata": {
    "collapsed": false
   },
   "outputs": [],
   "source": [
    "def dropdown_action(change):\n",
    "    shape_slider.hold_trait_notifications()\n",
    "\n",
    "    # Update the shape slider according to the chosen distribution\n",
    "    if(dropdown.value is 'Uniform' or dropdown.value is 'Custom'):\n",
    "        shape_slider.disabled=True\n",
    "        shape_slider.layout.visibility='hidden'\n",
    "    else:\n",
    "\n",
    "        if(dropdown.value is 'Geom'):\n",
    "            shape_slider.min = 0.\n",
    "            shape_slider.max = 1.\n",
    "            shape_slider.step = 0.01\n",
    "            shape_slider.value = 0.5\n",
    "        elif(dropdown.value is 'Logser'):\n",
    "            shape_slider.step = 0.01\n",
    "            shape_slider.min = 0. + shape_slider.step\n",
    "            shape_slider.max = 1. - shape_slider.step\n",
    "            shape_slider.value = 0.6\n",
    "        elif(dropdown.value is 'Planck'):\n",
    "            shape_slider.min = 0.\n",
    "            shape_slider.max = 1.\n",
    "            shape_slider.step = 0.01\n",
    "            shape_slider.value = 0.51\n",
    "        elif(dropdown.value is 'Zipf'):\n",
    "            shape_slider.max = 10.\n",
    "            shape_slider.step = 0.01\n",
    "            shape_slider.min = 0. + shape_slider.step\n",
    "            shape_slider.value = 1.5\n",
    "\n",
    "        shape_slider.disabled=False\n",
    "        shape_slider.layout.visibility='visible'\n",
    "\n",
    "    if(dropdown.value!='Custom'):\n",
    "        update_dist(None)\n"
   ]
  },
  {
   "cell_type": "code",
   "execution_count": 12,
   "metadata": {
    "collapsed": true
   },
   "outputs": [],
   "source": [
    "def sorted_sliders():\n",
    "    # Sort according to value\n",
    "    s = list(sliders)\n",
    "    \n",
    "    # Weights set, use that order, otherwise alphabetical\n",
    "    if [t.value in range(1,len(sliders)) for t in texts]:\n",
    "        zippy = zip([slider for slider in sliders], [text.value for text in texts])\n",
    "        zippy.sort(key= lambda (slider,weight): weight)\n",
    "        s = [slider for (slider,weight) in zippy]\n",
    "    else:    \n",
    "        s.sort(key=lambda x: x.description, reverse=False)\n",
    "        \n",
    "    s.sort(key=lambda x: x.value, reverse=True)\n",
    "    return s"
   ]
  },
  {
   "cell_type": "code",
   "execution_count": 13,
   "metadata": {
    "collapsed": true
   },
   "outputs": [],
   "source": [
    "def draw_graph(change):\n",
    "    # Normalize the slider values\n",
    "    s = sorted_sliders()\n",
    "    probabilities = pd.Series([slider.value for slider in s])\n",
    "    normalize_by = probabilities.sum()\n",
    "    \n",
    "    # Remove old GUI and show new\n",
    "    clear_output()\n",
    "    display(box, out)\n",
    "    \n",
    "    # Plot new graph\n",
    "    plot(pd.Series([str(slider.description) for slider in s]), (probabilities/normalize_by)*100)"
   ]
  },
  {
   "cell_type": "code",
   "execution_count": 14,
   "metadata": {
    "collapsed": true
   },
   "outputs": [],
   "source": [
    "def draw(change):\n",
    "    # Layout update\n",
    "    update_gui()\n",
    "    # Set labels visible/invisible\n",
    "    toggle_labels(None)\n",
    "\n",
    "    # Calculate slider values unless 'custom' is chosen\n",
    "    if(dropdown.value != 'Custom'):\n",
    "        update_dist(None)\n",
    "    \n",
    "    draw_graph(None)\n",
    "  "
   ]
  },
  {
   "cell_type": "code",
   "execution_count": 15,
   "metadata": {
    "collapsed": false,
    "deletable": true,
    "editable": true
   },
   "outputs": [
    {
     "data": {
      "application/vnd.jupyter.widget-view+json": {
       "model_id": "0c5d3f2f5c384aa9b91d3fb0d7dfbaa3",
       "version_major": 2,
       "version_minor": 0
      },
      "text/plain": [
       "interactive(children=(IntSlider(value=4, continuous_update=False, description=u'Categories', layout=Layout(wid…"
      ]
     },
     "metadata": {},
     "output_type": "display_data"
    }
   ],
   "source": [
    "interact(cat_update, c_slider=categories_slider);"
   ]
  },
  {
   "cell_type": "code",
   "execution_count": 16,
   "metadata": {
    "collapsed": false,
    "deletable": true,
    "editable": true
   },
   "outputs": [
    {
     "data": {
      "application/vnd.jupyter.widget-view+json": {
       "model_id": "f80dd74e93cb4f0f8edb975db2664755",
       "version_major": 2,
       "version_minor": 0
      },
      "text/plain": [
       "VBox(children=(HBox(children=(Dropdown(description=u'Distribution:', index=5, options=('Custom', 'Geom', 'Logs…"
      ]
     },
     "metadata": {},
     "output_type": "display_data"
    },
    {
     "data": {
      "application/vnd.jupyter.widget-view+json": {
       "model_id": "8f9a2963b0ae42759fb9b37c0d2f3d47",
       "version_major": 2,
       "version_minor": 0
      },
      "text/plain": [
       "Output(layout=Layout(align_items=u'center'), outputs=({u'output_type': u'display_data', u'data': {u'image/png'…"
      ]
     },
     "metadata": {},
     "output_type": "display_data"
    }
   ],
   "source": [
    "draw_button.on_click(draw)\n",
    "dropdown.observe(dropdown_action)\n",
    "\n",
    "shape_slider.observe(draw)\n",
    "\n",
    "draw(None)"
   ]
  }
 ],
 "metadata": {
  "kernelspec": {
   "display_name": "Python 2",
   "language": "python",
   "name": "python2"
  },
  "language_info": {
   "codemirror_mode": {
    "name": "ipython",
    "version": 2
   },
   "file_extension": ".py",
   "mimetype": "text/x-python",
   "name": "python",
   "nbconvert_exporter": "python",
   "pygments_lexer": "ipython2",
   "version": "2.7.13"
  }
 },
 "nbformat": 4,
 "nbformat_minor": 2
}
